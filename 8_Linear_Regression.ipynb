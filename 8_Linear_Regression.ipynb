{
  "nbformat": 4,
  "nbformat_minor": 0,
  "metadata": {
    "colab": {
      "name": "8_Linear Regression.ipynb",
      "provenance": [],
      "collapsed_sections": [],
      "authorship_tag": "ABX9TyPYY+arMjI6nSuCCgufsLI7",
      "include_colab_link": true
    },
    "kernelspec": {
      "name": "python3",
      "display_name": "Python 3"
    }
  },
  "cells": [
    {
      "cell_type": "markdown",
      "metadata": {
        "id": "view-in-github",
        "colab_type": "text"
      },
      "source": [
        "<a href=\"https://colab.research.google.com/github/duonghb53/AI-Foundation-Course/blob/main/8_Linear_Regression.ipynb\" target=\"_parent\"><img src=\"https://colab.research.google.com/assets/colab-badge.svg\" alt=\"Open In Colab\"/></a>"
      ]
    },
    {
      "cell_type": "markdown",
      "metadata": {
        "id": "V590eBtboXcy"
      },
      "source": [
        "## **Linear Regression - Hồi Quy Tuyến Tính**\n",
        "**Linear Regression (Hồi Quy Tuyến Tính)** thuộc nhóm Supervised learning ( Học có giám sát ). Hồi quy tuyến tính là một phương pháp rất đơn giản nhưng đã được chứng minh được tính hữu ích cho một số lượng lớn các tình huống.\n",
        "\n",
        "**Linear Regression** là một phương pháp thống kê để hồi quy dữ liệu với biến phụ thuộc có giá trị liên tục trong khi các biến độc lập có thể có một trong hai giá trị liên tục hoặc là giá trị phân loại. Nói cách khác \"Hồi quy tuyến tính\" là một phương pháp để dự đoán biến phụ thuộc (Y) dựa trên giá trị của biến độc lập (X). Nó có thể được sử dụng cho các trường hợp chúng ta muốn dự đoán một số lượng liên tục. Một ví dụ đơn giản là tiên đoán giá nhà price dựa vào diện tích nhà theo công thức sau:\n",
        "\n",
        "> ##            **𝑝𝑟𝑖𝑐𝑒 = 𝑎 ∗ 𝑎𝑟𝑒𝑎 + 𝑏   (1)**\n",
        "trong đó a và b là hai tham số cần tìm.\n",
        "\n",
        "![](https://i.imgur.com/xaFzQQc.png)\n"
      ]
    },
    {
      "cell_type": "markdown",
      "metadata": {
        "id": "_rxkoaU2EMjJ"
      },
      "source": [
        "# **I. Các bước cần làm khi dùng linear regression**\n",
        "\n",
        "- Chuẩn bị và xử lý dữ liệu\n",
        "- Xây dựng mô hình\n",
        "- Xây dựng hàm loss\n",
        "- Tìm bộ tham số dùng giải thuật backpropagation\n",
        "\n"
      ]
    },
    {
      "cell_type": "markdown",
      "metadata": {
        "id": "-la_7pr8Eh8i"
      },
      "source": [
        "## **1. Chuẩn bị và xử lý dữ liệu**\n",
        "\n",
        "Bước chuẩn bị và xử lý dữ liệu rất quan trọng và chiếm phần lớn thời gian. Với bài toán dự đoán giá nhà dựa vào diện tích nhà và bài toán dự đoán doanh thu bán hàng, chúng ta cần có dữ liệu giao dịch thực tế. Dữ liệu này dùng để huấn luyện mô hình (model) ước lượng. Phương trình (1) và (2) là ví dụ cụ thể của mô hình ước lượng.\n",
        "\n",
        "Trong các bài học hoặc trong nghiên cứu, các bộ dữ liệu thường được xử lý trước để tạo thuận lợi cho người sử dụng về sau. Tuy nhiên, trong thực tế, các dữ liệu thu thập hầu như cần xử lý để chỉnh sửa định dạng, thêm các trường dữ liệu, hay xóa các mẫu dữ liệu không cần thiết."
      ]
    },
    {
      "cell_type": "markdown",
      "metadata": {
        "id": "ncNuNcGlEmiF"
      },
      "source": [
        "## **2. Xây dựng mô hình**\n",
        "\n",
        "Mô hình tổng quát của linear regression có dạng sau\n",
        "\n",
        "> ℎ𝜃(𝑥)=𝜃0𝑥0+𝜃1𝑥1+…+𝜃𝑛𝑥𝑛\n",
        "\n",
        "Trong đó 𝜃=(𝜃0,𝜃1,…,𝜃𝑛) là bộ tham số, và 𝑥=(𝑥0,𝑥1,…,𝑥𝑛) là vector đặc trưng. ℎ𝜃(𝑥) là giá trị tiên đoán dựa vào bộ tham số 𝜃 cho mẫu dữ liệu x.\n",
        "\n",
        "Bài toán dự đoán giá nhà có một đặc trưng là diện tích nhà. Do đó, cùng với tham số bias, bộ tham số 𝜃 có chiều dài 𝑛=2. Vector đặc trưng (bao gồm bias) có dạng 𝑥=(𝑥0,𝑥1)=(1,𝑎𝑟𝑒𝑎).\n",
        "\n",
        "Với bài toán advertising, các đặc trưng bao gồm TV, Radio, Newspaper. Do đó, vector đặc trưng (bao gồm bias) có dạng 𝑥=(𝑥0,𝑥1,𝑥2,𝑥3)=(1,𝑇𝑉,𝑅𝑎𝑑𝑖𝑜,𝑁𝑒𝑤𝑠𝑝𝑎𝑝𝑒𝑟), và bộ tham số có dạng\n",
        "𝜃=(𝜃0,𝜃1,𝜃2,𝜃3)."
      ]
    },
    {
      "cell_type": "markdown",
      "metadata": {
        "id": "7B2rFvcbFOYD"
      },
      "source": [
        "## **3. Xây dựng hàm loss**\n",
        "\n",
        "Mục đích của hàm loss nhằm đo mức độ khác biệt (khoảng cách) giữa giá trị tiên đoán ℎ𝜃(𝑥) với giá trị thực y. Hàm loss phổ biến cho bài toán linear regression là hàm bình phương độ lệch. Bình phương độ lệch giữa hai giá trị ℎ𝜃(𝑥) và y được tính như sau:\n",
        "\n",
        "> ### 𝐽(𝑥,𝑦;𝜃)=(ℎ𝜃(𝑥)–𝑦)2\n",
        "\n",
        "Khi muốn tính giá trị loss cho cả bộ dữ liệu, chúng ta tính giá trị loss trung bình như sau:\n",
        "> ### 𝐽(𝜃)=1𝑚∑𝑖=1𝑚(ℎ𝜃(𝑥(𝑖))–𝑦(𝑖))2\n",
        "\n",
        "trong đó, (𝑥(𝑖),𝑦(𝑖)) là mẫu dữ liệu thứ 𝑖𝑡ℎ trong bộ dữ liệu gồm m mẫu dữ liệu. Chú ý, ở một số tài liệu, công thức tính giá trị loss trung bình ở trên còn chia thêm cho 2 như 𝐽(𝜃)=1𝑚∑𝑖=1𝑚(ℎ𝜃(𝑥(𝑖))–𝑦(𝑖))2. Việc có chia cho 2 hay không không ảnh hưởng đến quá trình huấn luyện."
      ]
    },
    {
      "cell_type": "markdown",
      "metadata": {
        "id": "l1vWL6x_GYjs"
      },
      "source": [
        "## **4. Tìm bộ tham số dùng giải thuật backpropagation**\n",
        "\n",
        "Quá trình tìm giá trị tối ưu cho bộ tham số gọi là quá trình huấn luyện mô hình. Hình sau mô tả các bước để huấn luyện mô hình.\n",
        "\n",
        "![](https://i.imgur.com/Wma7U42.png)\n",
        "\n",
        "Bước đầu tiên là khởi tạo giá trị cho bộ tham số 𝜃. Thông thường bộ tham số được khởi tạo với các giá trị nhỏ và ngẫu nhiên. Cụ thể, các giá trị ngẫu nhiên theo phân bố chuẩn (normal distribution) thường được sử dụng để khởi tạo giá trị cho bộ tham số.\n",
        "\n",
        "Tiếp đó, các bước tính feed-forward, tính loss, tính đạo hàm cho từng tham số, và cập nhật tham số được thực hiện lặp đi lặp lại cho đến khi nào đạt đến điều kiện dừng. Điều kiện dừng thường là số lần sử dụng (duyệt qua) bộ dữ liệu. Một lần duyệt qua hết các mẫu trong bộ dữ liệu được gọi là một epoch.\n",
        "\n",
        "– Tính feed-forward cho mẫu thứ 𝑖𝑡ℎ trong bộ dữ liệu\n",
        "\n",
        "> ### ℎ𝜃(𝑥(𝑖))=𝜃0𝑥(𝑖)0+𝜃1𝑥(𝑖)1+…+𝜃𝑘𝑥(𝑖)𝑘\n",
        "\n",
        "– Tính giá trị loss trung bình cho m mẫu dữ liệu\n",
        "\n",
        "> ### 𝐽(𝜃)=1𝑚∑𝑖=1𝑚(ℎ𝜃(𝑥(𝑖))–𝑦(𝑖))2\n",
        "\n",
        "– Tính đạo hàm cho từng tham số\n",
        "\n",
        "> ### ∂𝐽(𝜃)∂𝜃𝑗=2𝑚∑𝑖=1𝑚(ℎ𝜃(𝑥(𝑖))–𝑦(𝑖))𝑥(𝑖)𝑗\n",
        "\n",
        "– Cập nhật tham số\n",
        "\n",
        "> ### 𝜃𝑗=𝜃𝑗–𝜂∂𝐽(𝜃)∂𝜃𝑗\n",
        "\n",
        "trong đó 𝜂 là learning rate  và là giá trị được xác định trước.\n",
        "\n",
        "Khi đọc các 4 công thức bên trên, các bạn cần phân biệt các biến ở dạng vector (như 𝑥(𝑖),𝑦(𝑖) và biến thông thường (như 𝜃𝑗,𝑥(𝑖)𝑗). Để hiểu rõ hơn về các bước huấn luyện cho mô hình linear regression, các bạn xem phần áp dụng cho bài toán dự đoán giá nhà dựa vào diện tích nhà.\n"
      ]
    },
    {
      "cell_type": "markdown",
      "metadata": {
        "id": "fmuv9rdPG3JJ"
      },
      "source": [
        "# **II. Áp dụng cho bài toán dự đoán giá nhà(BostonHousing)**\n",
        "\n",
        "\n",
        "\n"
      ]
    },
    {
      "cell_type": "code",
      "metadata": {
        "id": "SpUNAqR_JVz9",
        "outputId": "77218367-2b93-45f0-b84a-a7a09e305371",
        "colab": {
          "base_uri": "https://localhost:8080/",
          "height": 299
        }
      },
      "source": [
        "import pandas as pd\n",
        "import numpy as np\n",
        "import matplotlib.pyplot as plt\n",
        "\n",
        "DATA_FILE = \"/content/drive/My Drive/Colab Notebooks/data/AI_Foundation_Course/BostonHousing.csv\"\n",
        "data = pd.read_csv(DATA_FILE)\n",
        "\n",
        "def normal(x:list):\n",
        "    maxi = max(x)\n",
        "    mini = min(x)\n",
        "    avg = np.mean(x)\n",
        "    new = [(i-avg)/(maxi-mini) for i in x ]\n",
        "    \n",
        "    return new\n",
        "\n",
        "df = data.copy()\n",
        "df = df.apply(normal, axis=0)\n",
        "\n",
        "Xd = df.drop(columns=['medv'])\n",
        "Xd.insert(0, 'X0', 1) # bias \n",
        "\n",
        "# numpy array format\n",
        "y = df.medv.values\n",
        "y = np.expand_dims(y, axis=1)\n",
        "\n",
        "X_b = Xd.values\n",
        "\n",
        "# sample size\n",
        "m = len(df.index)\n",
        "n = X_b.shape[1]\n",
        "theta = np.ones(n)\n",
        "\n",
        "\n",
        "print(X_b.shape)\n",
        "print(y.shape)\n",
        "\n",
        "def batch_gradient_descent():\n",
        "    n_iterations = 500\n",
        "    learning_rate = 0.01\n",
        "    \n",
        "    # khởi tạo giá trị tham số\n",
        "    thetas = np.random.randn(14, 1)\n",
        "    thetas_path = [thetas]\n",
        "    losses = []\n",
        "    \n",
        "    for i in range(n_iterations):\n",
        "        # tính output\n",
        "        output = X_b.dot(thetas)\n",
        "        \n",
        "        # tính loss\n",
        "        loss = (output - y)**2        \n",
        "                \n",
        "        # tính đạo hàm cho loss\n",
        "        loss_grd = 2*(output - y)/m\n",
        "        \n",
        "        # tính đạo hàm cho các tham số\n",
        "        gradients = X_b.T.dot(loss_grd)\n",
        "        \n",
        "        # cập nhật tham số\n",
        "        thetas = thetas - learning_rate*gradients\n",
        "        thetas_path.append(thetas)\n",
        "        \n",
        "        mean_loss = np.sum(loss)/m\n",
        "        losses.append(mean_loss)\n",
        "\n",
        "    return thetas_path, losses\n",
        "\n",
        "bgd_thetas, losses = batch_gradient_descent()\n",
        "\n",
        "# in loss cho 100 sample đầu\n",
        "x_axis = list(range(500))\n",
        "plt.plot(x_axis,losses[:500], color=\"r\")\n",
        "plt.show()"
      ],
      "execution_count": null,
      "outputs": [
        {
          "output_type": "stream",
          "text": [
            "(506, 14)\n",
            "(506, 1)\n"
          ],
          "name": "stdout"
        },
        {
          "output_type": "display_data",
          "data": {
            "image/png": "[encoded data removed]",
            "text/plain": [
              "<Figure size 432x288 with 1 Axes>"
            ]
          },
          "metadata": {
            "tags": [],
            "needs_background": "light"
          }
        }
      ]
    }
  ]
}