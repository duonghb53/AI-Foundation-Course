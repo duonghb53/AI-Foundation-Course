{
  "nbformat": 4,
  "nbformat_minor": 0,
  "metadata": {
    "colab": {
      "name": "7_GeneticAlgorithm.ipynb",
      "provenance": [],
      "collapsed_sections": [],
      "authorship_tag": "ABX9TyP/rc8MpT8JlujmMLPb8OTf",
      "include_colab_link": true
    },
    "kernelspec": {
      "name": "python3",
      "display_name": "Python 3"
    }
  },
  "cells": [
    {
      "cell_type": "markdown",
      "metadata": {
        "id": "view-in-github",
        "colab_type": "text"
      },
      "source": [
        "<a href=\"https://colab.research.google.com/github/duonghb53/AI-Foundation-Course/blob/main/7_GeneticAlgorithm.ipynb\" target=\"_parent\"><img src=\"https://colab.research.google.com/assets/colab-badge.svg\" alt=\"Open In Colab\"/></a>"
      ]
    },
    {
      "cell_type": "markdown",
      "metadata": {
        "id": "WvStrh7KM9aj"
      },
      "source": [
        "# **Genetic Algorithm - Giải thuật di truyền**\n",
        "Từ lâu, chúng ta thường được nghe rằng loài người được tiến hóa từ loài vượn cổ. Quan điểm này xuất phát từ thuyết tiến hóa của Charles Darwin. Song song với thuyết tiến hóa của Darwin - quan điểm chọn lọc tự nhiên thì còn 1 thuyết tiến hóa nữa của Jean-Baptiste Lamarck. Tuy nhiên trong bài viết này mình sẽ không đề cập tới lĩnh vực này mà mình muốn giới thiệu tới bạn đọc một thuật toán sử dụng chọn lọc tự nhiên để giải quyết bài toán có không gian tìm kiếm rất lớn - **Genetic Algorithm - Giải thuật Di Truyền.**\n",
        "\n",
        "1. Ý tưởng chính\n",
        "- Mối liên hệ giữa các thành phần\n",
        "\n",
        "2. Thuật toán di truyền\n",
        "- Initial Population- Khởi tạo quần thể\n",
        "- Evaluation - Đánh giá\n",
        "- Selection - Chọn lọc\n",
        "- Crossover - Sinh sản\n",
        "- Mutation - Đột biến\n",
        "3. Những vấn đề thường gặp khi sử dụng thuật toán\n",
        "- Evaluation\n",
        "- Chromosome\n",
        "4. Ứng dụng thực tiễn"
      ]
    },
    {
      "cell_type": "markdown",
      "metadata": {
        "id": "ZtiDguglRcVO"
      },
      "source": [
        "## **1. Ý tưởng chính**\n",
        "Nhằm giải thích sự xuất hiện của Hươu cao cổ, Darwin đưa ra giả thiết rằng: “Trong quần thể Hươu vốn đã tồn tại những con Hươu có cổ cao hơn bình thường nhờ gen di truyền và sự đột biến. Trải qua quá trình sinh sống và phát triển, môi trường thay đổi khiến cho thức ăn càng ngày càng khó kiếm hơn, khiến những con Hươu có chiếc cổ cao sẽ chiếm ưu thế sinh tồn hơn. Lâu dần thì thế hệ Hươu mới sẽ được thay bằng những con Hươu cao cổ có khả năng sinh sản và thích nghi với môi trường lớn hơn”.\n",
        "![](https://i.imgur.com/NdOXCr4.jpg)\n",
        "\n",
        "Nhìn vào thuyết tiến hóa của Hươu cao cổ này, chúng ta thấy được sự xuất hiện của những thành phần sau:\n",
        "- Quần thể\n",
        "- Đột biến\n",
        "- Sinh sản\n",
        "- Chọn lọc tự nhiên\n",
        "đây cũng chính là những thành phần trong giải thuật này.\n",
        "\n",
        "**Mối liên hệ giữa các thành phần**\n",
        "\n",
        "Để nắm rõ ý tưởng chính của thuật toán, biểu đồ dưới đây sẽ mổ tả cụ thể những thành phần và mối liên hệ của chúng.\n",
        "![](https://i.imgur.com/Y8XKIDK.png)\n",
        "\n",
        "- **1. Population - Quần thể:** Một quần thể ban đầu sẽ có những cá thể nhất định với những đặc tính khác nhau, những đặc tính này sẽ quy định khả năng sinh sản, sinh tồn, khả năng đáp ứng điều kiện môi trường của từng cá thể.\n",
        "- **2. Natural Selection - Chọn lọc tự nhiên:** Theo thời gian những cá thể yếu hơn, không có khả năng sinh tồn sẽ bị loại bỏ bởi những tác nhân như tranh chấp chuỗi thức ăn, môi trường tác độc, bị loài khác tiêu diệt, … Cuối cùng sẽ còn lại những cá thể có đặc tính ưu việt hơn sẽ được giữ lại - Adaptive individual.\n",
        "- **3. Mutation - Đột biến:** Như chúng ta đã biết thì mỗi cá thể con được sinh ra sẽ được kế thừa lại những đặc tính của cả cha và mẹ. Sau một thời gian sinh sống, một quần thể sẽ đặt tới giới hạn của các cặp gen của con được tạo nên từ gen của bố mẹ. Để đạt được tới sự tiến hóa, Đột Biến chính là một trong những nguyên nhân chính, có vai trò đóng góp nguyên liệu cho quá trình Chọn lọc tự nhiên.\n",
        "- **4. Evolution - Tiến hóa:** Những cá thể đột biến không phải luôn là những cá thể mạnh mẽ và có đủ khả năng sinh tồn, Chọn lọc tự nhiên sẽ chọn ra những cá thể đột biến nhưng có thể thích nghi với môi trường sống tốt hơn những cá thể khác trong quần thể. Sau một thời gian sinh sản, những gen đột biến sẽ chiếm ưu thế và chiếm đa số trong quần thể.\n"
      ]
    },
    {
      "cell_type": "markdown",
      "metadata": {
        "id": "qRm448nKUTry"
      },
      "source": [
        "## **2. Thuật toán di truyền**\n",
        "Có rất nhiều cách giải thích và biểu đồ khác nhau để diễn giải thuật toán, nhưng nhìn chung các thành phần chính của thuật toán sẽ không thay đổi.\n",
        "GA bao gồm 3 bước chính là **Selection (chọn lọc)**, **Crossover (lai ghép)** và **Mutation (đột biến)** được mô tả ở hình vẽ sau:\n",
        "![](https://i.imgur.com/yhsnUg6.png)\n",
        "\n",
        "trong đó\n",
        "- **Selection**: chọn lọc những cá thể có fitness (hay score) tốt để lai ghép và đột biến\n",
        "- **Crossover**: Trao đổi gen giữa hai cá thể\n",
        "- **Mutation**: đột biến gen của một cá thể\n",
        "\n",
        "Ngoài ra còn có bước **population initialization (khởi tạo quần thể)** nhằm tạo ngẫu nhiên quần thể ban đầu. Bước **evaluation** có mục đích để tính giá trị fitness cho các cá thể. GA không quan tâm đến cách thức tính fitness cho một cá thể, mà chỉ cần biết thông tin input và output. Ba bước chính của GA sẽ được lặp đi lặp lại cho đến khi nào điều kiện dừng được thỏa mãn. Điều kiện dừng có thể là số lần lặp (generation), tính bão hòa của giá trị max_fitness, hay sự hội tự của quần thể (các cá thế có fitness gần giống nhau).\n",
        "\n",
        "Sau đây chúng ta sẽ đi vào chi tiết từng bước và minh họa bằng bài toán **one-max**.\n",
        "\n"
      ]
    },
    {
      "cell_type": "markdown",
      "metadata": {
        "id": "lU6cFzql8EXr"
      },
      "source": [
        "### **Population initialization**\n",
        "\n",
        "Ở bước này, dựa vào thông tin số cá thể m và số gen của một cá thể n, quần thể gồm m cá thể được khởi tạo với các giá trị ngẫu nhiên. Hình sau minh họa giá trị khởi tạo một quần thể với m = 10 và n = 6.\n",
        "\n",
        "![](https://i.imgur.com/QWLEdLh.png)\n",
        "\n",
        "**Source code cho bước này như sau:** \n"
      ]
    },
    {
      "cell_type": "code",
      "metadata": {
        "id": "einTs75w-vUA",
        "outputId": "5b8dfe68-f9af-43ff-c0c8-fd8a27fe3940",
        "colab": {
          "base_uri": "https://localhost:8080/"
        }
      },
      "source": [
        "import random\n",
        "n = 6                 # size of individual (chromosome)\n",
        "m = 10                # size of population\n",
        "\n",
        "def generate_random_value():\n",
        "    return random.randint(0, 1)\n",
        "\n",
        "def create_individual():\n",
        "    return [generate_random_value() for _ in range(n)]\n",
        "\n",
        "population = [create_individual() for _ in range(m)]\n",
        "\n",
        "#print population\n",
        "for pol in population:\n",
        "  print(pol)"
      ],
      "execution_count": null,
      "outputs": [
        {
          "output_type": "stream",
          "text": [
            "[0, 0, 1, 0, 0, 1]\n",
            "[1, 0, 1, 1, 1, 1]\n",
            "[1, 0, 0, 1, 0, 1]\n",
            "[1, 1, 0, 0, 0, 1]\n",
            "[0, 0, 1, 0, 0, 0]\n",
            "[0, 1, 0, 1, 1, 1]\n",
            "[0, 0, 1, 1, 0, 1]\n",
            "[0, 0, 1, 0, 0, 0]\n",
            "[1, 0, 1, 1, 0, 0]\n",
            "[0, 0, 0, 1, 1, 0]\n"
          ],
          "name": "stdout"
        }
      ]
    },
    {
      "cell_type": "markdown",
      "metadata": {
        "id": "ok3wqw2p9EtE"
      },
      "source": [
        "### **Evaluation**\n",
        "\n",
        "Ở bước này, GA sử dụng một hàm được cung cấp sẵn để tính fitness cho từng cá thể. Với bài one-max, hàm cung cấp sẵn chính là hàm secret(), nhận input là một cá thể và output là giá trị fitness của cá thể đó. GA không biết nội dung bên trong của hàm secret() mà chỉ biết chuẩn input và giá trị output. Minh họa bước tính fitness cho quần thể ở hình sau:\n",
        "\n",
        "![](https://i.imgur.com/qTUH4Yy.png)\n",
        "\n",
        "**Source code cho bước này như sau:** "
      ]
    },
    {
      "cell_type": "code",
      "metadata": {
        "id": "ymERflXJ_41d",
        "outputId": "0c164bd0-c268-4bd2-db99-a4a78d188fb4",
        "colab": {
          "base_uri": "https://localhost:8080/"
        }
      },
      "source": [
        "def compute_fitness(individual):\n",
        "    return sum(gen for gen in individual)\n",
        "\n",
        "#print population\n",
        "for pol in population:\n",
        "  print(compute_fitness(pol))"
      ],
      "execution_count": null,
      "outputs": [
        {
          "output_type": "stream",
          "text": [
            "2\n",
            "4\n",
            "2\n",
            "2\n",
            "4\n",
            "4\n",
            "1\n",
            "4\n",
            "5\n",
            "2\n"
          ],
          "name": "stdout"
        }
      ]
    },
    {
      "cell_type": "markdown",
      "metadata": {
        "id": "E7E5eiNB9VmL"
      },
      "source": [
        "### **Selection**\n",
        "\n",
        "Dựa vào giá trị fitness của mỗi cá thể, bước selection sẽ chọn ra một tập hợp các cá thể có fitness tốt nhất. Nguyên tắc chọn là cá thể nào có fitness càng cao thì khả năng cá thể đó sẽ được chọn càng nhiều lần. Có nhiều phương pháp selection trong GA, và ở bài này chúng ta sẽ áp dụng phương pháp binary selection. Binary selection hoạt động như sau: lấy ngẫu nhiên hai cá thể trong quần thể, cá thể nào có fitness tốt hơn thì được chọn.\n",
        "\n",
        "Nói cách khác, giả sử các cá thể trong quần thể được đánh giá trị index (từ 0 đến 9 cho 10 cá thể). Để chọn ra được một cá thể tốt, chúng ta sẽ sinh ra hai số ngẫu nhiên 𝑖1 và 𝑖2 nằm trong đoạn [0, 9]. Sau đó, lấy hai cá thể vị trí index 𝑖1 và 𝑖2, cá thể nào có fitness cao hơn sẽ được chọn.\n",
        "\n",
        "Binary selection có thể cài bằng với hai bước: 1) sắp xếp các cá thể theo thứ tự tăng dần với tiêu chí fitness; 2) Sinh ra hai số ngẫu nhiên 𝑖1,𝑖2∈[0,𝑚−1], rồi chọn cá thể có giá trị index lớn hơn. Hình sau minh họa binary selection.\n",
        "\n",
        "![](https://i.imgur.com/XZSjIOn.png)\n",
        "\n",
        "Ví dụ minh họa trên muốn chọn ra hai cá thể tự quần thể hiện tại. Ban đầu, quần thể được sắp xếp theo tứ tự tăng đần của fitness. Sau đó, hai cặp số ngẫu nhiên được sinh ra. Cặp số đầu tiên là (9, 4), nghĩa là giữa hai cá thể ở vị trí index 9 và 4, chọn cá thể tốt hơn. Do quần thể đã được sắp xếp, vị trí index lớn hơn sẽ được chọn. Cuối cùng, cá thể có index 9 được chọn. Tương tự cho cặp số ngẫu nhiên thứ 2 (5, 2), cá thể vị trí index 5 được chọn.\n",
        "\n",
        "Trong trường hợp chúng ta muốn lựa chọn những cá thể tốt từ quần thể hiện tại để tạo ra một quần thể mới, m cặp số ngẫu nhiên sẽ được sinh ra nhằm chọn ra được m cá thể cho quần thể mới. Hình sau mình họa quá trình tạo quần thể mới.\n",
        "\n",
        "![](https://i.imgur.com/KvMYa6N.png)\n",
        "\n",
        "Chúng ta thấy được rằng ở quần thể mới, những cá thể tốt nhất ở quần thể cũ được giữ lại và những cá thể có fitness nhỏ được loại bỏ. Điều này có ý nghĩa rằng qua quá trình tiến hóa, chúng ta mong muốn những cá thể tốt với nhiều gen tốt sẽ được giữ lại và lan tỏa ra quần thể.\n",
        "\n",
        "**Source code cho bước này như sau:**\n"
      ]
    },
    {
      "cell_type": "code",
      "metadata": {
        "id": "7C-dFC3rBsD9"
      },
      "source": [
        "def selection(sorted_old_population):    \n",
        "    index1 = random.randint(0, m-1)    \n",
        "    while True:\n",
        "        index2 = random.randint(0, m-1)    \n",
        "        if (index2 != index1):\n",
        "            break\n",
        "            \n",
        "    individual_s = sorted_old_population[index1]\n",
        "    if index2 > index1:\n",
        "        individual_s = sorted_old_population[index2]\n",
        "    \n",
        "    return individual_s"
      ],
      "execution_count": null,
      "outputs": []
    },
    {
      "cell_type": "markdown",
      "metadata": {
        "id": "hr5YZsPd970K"
      },
      "source": [
        "### **Crossover**\n",
        "\n",
        "Crossover nhắm lai ghép giữa hai cá thế. Cụ thể, hai cá thể có thể trao đổi gen với nhau. Trong bài này, chúng ta sẽ dùng binary crossover để thực hiện việc lai tạo giữa hai cá thể. Binary crossover hoạt động như sau: cho trước xác suất thực hiện crossover cho một gen là 𝑅𝑐𝑟=0.9, sinh ra một boolean vector 𝑣𝑐𝑟 có độ dài n, trong đó mỗi phần tử chứa giá trị True hoặc False. Giá trị True cho một vị trí index nghĩa là thực hiện việc trao đổi gen ở vị trí đó giữa hai cá thể. Ví dụ cho 𝑅𝑐𝑟=0.9 nghĩa là việc trao đổi gen cho một vị trí giữa hai cá thể là 90% khả năng. Hình sau minh họa việc trao đổi gen cho trước vector 𝑣𝑐𝑟.\n",
        "\n",
        "![](https://i.imgur.com/x9tjQ0O.png)\n",
        "\n",
        "**Source code cho bước này như sau:**\n"
      ]
    },
    {
      "cell_type": "code",
      "metadata": {
        "id": "rYucMHm4B7Gl"
      },
      "source": [
        "def crossover(individual1, individual2, crossover_rate = 0.9):\n",
        "    individual1_new = individual1.copy()\n",
        "    individual2_new = individual2.copy()\n",
        "    \n",
        "    for i in range(n):\n",
        "        if random.random() < crossover_rate:\n",
        "            individual1_new[i] = individual2[i]\n",
        "            individual2_new[i] = individual1[i]            \n",
        "    \n",
        "    return individual1_new, individual2_new"
      ],
      "execution_count": null,
      "outputs": []
    },
    {
      "cell_type": "markdown",
      "metadata": {
        "id": "2_3dJUUw-XWP"
      },
      "source": [
        "### **Mutation**\n",
        "\n",
        "Mutation nhằm đột biến gen cho một cá thể. Gen cần đột biến sẽ nhận một giá trị ngẫn nhiên nằm trong miền giá trị. Tương tự crossover, mutation cũng cần một boolean vector 𝑣𝑚𝑡 để xác định những gen nào cần đột biến. Vector 𝑣𝑚𝑡 được sinh ra một cách ngẫu nhiên theo một khả năng mutation 𝑅𝑚𝑡 cho trước. Hình sau minh họa việc đột biến cho một cá thể dựa vào vector 𝑣𝑚𝑡 cho trước.\n",
        "\n",
        "![](https://i.imgur.com/EswpR2w.png)\n",
        "\n",
        "**Source code cho bước này như sau:**\n"
      ]
    },
    {
      "cell_type": "code",
      "metadata": {
        "id": "HxF2i7kZCT-f"
      },
      "source": [
        "def mutate(individual, mutation_rate = 0.05):\n",
        "    individual_m = individual.copy()\n",
        "    \n",
        "    for i in range(n):\n",
        "        if random.random() < mutation_rate:\n",
        "            individual_m[i] = generate_random_value()\n",
        "        \n",
        "    return individual_m"
      ],
      "execution_count": null,
      "outputs": []
    },
    {
      "cell_type": "markdown",
      "metadata": {
        "id": "fvjf8l9R8gxr"
      },
      "source": [
        "## **Source đầy đủ \bbài toán One-max**"
      ]
    },
    {
      "cell_type": "code",
      "metadata": {
        "id": "x9PXf2t1fGKM",
        "outputId": "f742f2d0-aa55-4fe8-a1c4-72954bbeb4e8",
        "colab": {
          "base_uri": "https://localhost:8080/",
          "height": 302
        }
      },
      "source": [
        "# Chương trình cài đặt với mục đích dễ hiểu\n",
        "# Nhiều chỗ có thể cải tiến về mặt computation và memory\n",
        "import random\n",
        "import matplotlib.pyplot as plt\n",
        "\n",
        "n = 6                 # size of individual (chromosome)\n",
        "m = 10                # size of population\n",
        "n_generations = 20    # number of generations\n",
        "# để vẽ biểu đồ quá trình tối ưu\n",
        "fitnesses = []\n",
        "def generate_random_value():\n",
        "    return random.randint(0, 1)\n",
        "\n",
        "def create_individual():\n",
        "    return [generate_random_value() for _ in range(n)]\n",
        "\n",
        "def secret(individual):\n",
        "    return sum(gen for gen in individual)\n",
        "\n",
        "def compute_fitness(individual):\n",
        "    return secret(individual)\n",
        "\n",
        "def crossover(individual1, individual2, crossover_rate = 0.9):\n",
        "    individual1_new = individual1.copy()\n",
        "    individual2_new = individual2.copy()\n",
        "    \n",
        "    for i in range(n):\n",
        "        if random.random() < crossover_rate:\n",
        "            individual1_new[i] = individual2[i]\n",
        "            individual2_new[i] = individual1[i]            \n",
        "    \n",
        "    return individual1_new, individual2_new\n",
        "\n",
        "def mutate(individual, mutation_rate = 0.05):\n",
        "    individual_m = individual.copy()\n",
        "    \n",
        "    for i in range(n):\n",
        "        if random.random() < mutation_rate:\n",
        "            individual_m[i] = generate_random_value()\n",
        "        \n",
        "    return individual_m\n",
        "def selection(sorted_old_population):    \n",
        "    index1 = random.randint(0, m-1)    \n",
        "    while True:\n",
        "        index2 = random.randint(0, m-1)    \n",
        "        if (index2 != index1):\n",
        "            break\n",
        "            \n",
        "    individual_s = sorted_old_population[index1]\n",
        "    if index2 > index1:\n",
        "        individual_s = sorted_old_population[index2]\n",
        "    \n",
        "    return individual_s \n",
        "def create_new_population(old_population, elitism=2, gen=1):\n",
        "    sorted_population = sorted(old_population, key=compute_fitness)\n",
        "        \n",
        "    if gen%1 == 0:\n",
        "        fitnesses.append(compute_fitness(sorted_population[m-1]))\n",
        "        #print(\"BEST:\", compute_fitness(sorted_population[m-1]))      \n",
        "    \n",
        "    new_population = []\n",
        "    while len(new_population) < m-elitism:\n",
        "        # selection\n",
        "        individual_s1 = selection(sorted_population)\n",
        "        individual_s2 = selection(sorted_population) # duplication\n",
        "        \n",
        "        # crossover\n",
        "        individual_c1, individual_c2 = crossover(individual_s1, individual_s2)\n",
        "        \n",
        "        # mutation\n",
        "        individual_m1 = mutate(individual_c1)\n",
        "        individual_m2 = mutate(individual_c2)\n",
        "        \n",
        "        new_population.append(individual_m1)\n",
        "        new_population.append(individual_m2)            \n",
        "    \n",
        "    for ind in sorted_population[m-elitism:]:\n",
        "        new_population.append(ind.copy())\n",
        "    \n",
        "    return new_population\n",
        "population = [create_individual() for _ in range(m)]\n",
        "print(population)\n",
        "for i in range(n_generations):\n",
        "    population = create_new_population(population, 2, i)\n",
        "\n",
        "# Vẽ biểu đồ\n",
        "plt.plot(fitnesses)\n",
        "plt.show()"
      ],
      "execution_count": null,
      "outputs": [
        {
          "output_type": "stream",
          "text": [
            "[[1, 1, 0, 1, 0, 1], [0, 0, 1, 1, 1, 0], [1, 0, 1, 0, 1, 0], [1, 1, 1, 0, 1, 1], [0, 0, 1, 0, 0, 0], [1, 1, 0, 1, 0, 0], [0, 0, 1, 0, 0, 0], [1, 0, 1, 1, 0, 0], [1, 0, 0, 1, 0, 1], [1, 1, 1, 0, 1, 0]]\n"
          ],
          "name": "stdout"
        },
        {
          "output_type": "display_data",
          "data": {
            "image/png": "[encoded data removed]",
            "text/plain": [
              "<Figure size 432x288 with 1 Axes>"
            ]
          },
          "metadata": {
            "tags": [],
            "needs_background": "light"
          }
        }
      ]
    },
    {
      "cell_type": "markdown",
      "metadata": {
        "id": "a3p_X5fMDMEE"
      },
      "source": [
        "## **3. Những vấn đề thường gặp khi sử dụng thuật toán**\n",
        "Thông thường, GA sẽ đạt được lợi thế trong những bài toán có không gian tìm kiếm quá lớn mà những giải thuật vét cạn không thể xử lí được. Tuy nhiên khi sử dụng, chúng ta sẽ cần cân nhắc những vấn đề ảnh hưởng tới việc lựa chọn thuật toán.\n",
        "\n",
        "> ### **Evaluation**\n",
        "\n",
        "Vấn đề đầu tiên gặp phải đó chính là việc đánh giá các cá thể trong quần thể, chúng ta cần một phương thức để có thể đánh giá sự thích nghi hay ưu thế của từng cá thể.\n",
        "\n",
        "Tuy nhiên khi thực hiện việc này, chúng ta sẽ cần cân nhắc 2 vấn đề:\n",
        "- **Tính khả thi:** Việc tìm phương thức đánh giá không phải luôn khả thi, ví dụ trong bài toàn tìm một giai điệu mới, việc đánh giá giai điệu đó có “dễ nghe”, “hay” hay không thuộc về cảm quan của mỗi người, nên việc tìm một hàm đánh giá chính xác sẽ rất khó khăn. \n",
        "- **Chi phí:** Đây cũng là một vấn đề cần cân nhắc, nếu chi phí tính toán của phương thức đánh giá quá lớn, việc sử dụng để tìm kiếm trong không gian sẽ mất nhiều thời gian, thậm chí lâu hơn vét cạn.\n",
        "\n",
        "\n",
        "> ### **Chromosome**\n",
        "\n",
        "Việc số hóa những đặc tính của bài toán thành các bits, bytes để có thể sử dụng trong khâu **Crossover**, **Mutation** cũng gặp nhiều khó khăn trong những bài toán khác nhau. Bởi với mỗi sự thay đổi bit sẽ phải tương ứng với việc tạo ra một cá thể với đặc tính khác nhau.\n"
      ]
    },
    {
      "cell_type": "markdown",
      "metadata": {
        "id": "GXAmOjm3Eem2"
      },
      "source": [
        "## **4. Ứng dụng thực tiễn**\n",
        "Như đã đề cập trước đó, Genetic Algorithm sẽ có ưu thế trong những bài toán mà có sẵn lời giải trong một không gian tìm kiếm lớn như những bài toán cổ điển One-max, Travelling, MinSphere, Knapsack, Advertising … Ngoài ra, hiện nay với việc bùng nổ của AI, rất nhiều bài toán dùng GA để tăng accuracy nhưng với kiến thức hiện tại mình chỉ đưa ra ứng dụng với 1 số bài toán trên...\n",
        "\n",
        "Để xây dựng hàm GA chung sử dụng cho các bài toán trên ta cần xây dựng các bước chung Population initialization, Evaluation(có nghĩa là ta cần xây dựng lại các hàm generate_random_value và secret trong source code One-max ở trên)\n",
        "\n",
        "Các hàm Selection, Crossover, Mutation sử dụng giống nhau nên chỉ cần kế thừa lại source code bài toán One-max\n",
        "\n",
        "\n"
      ]
    },
    {
      "cell_type": "markdown",
      "metadata": {
        "id": "DT46fRuFd8oi"
      },
      "source": [
        "# **Source code GA**"
      ]
    },
    {
      "cell_type": "code",
      "metadata": {
        "id": "93MHM_KNd6d_"
      },
      "source": [
        "import random\n",
        "import numpy as np\n",
        "import matplotlib.pyplot as plt\n",
        "\n",
        "\n",
        "class GA:\n",
        "    def __init__(self, \n",
        "               nSizePopulation,\n",
        "               rangeGen,\n",
        "               nInviduals,\n",
        "               secret,\n",
        "               nIterators,\n",
        "               rateCross = 0.9,\n",
        "               rateMutate = 0.05,\n",
        "               elitism = 2,\n",
        "               typeRandom = 0):\n",
        "        self.nSizePopulation = nSizePopulation\n",
        "        self.rangeGen = rangeGen\n",
        "        self.nInviduals = nInviduals\n",
        "        self.secret = secret\n",
        "        self.nIterators = nIterators\n",
        "        self.fitness = []\n",
        "        self.rateCross = rateCross\n",
        "        self.rateMutate = rateMutate\n",
        "        self.elitism = elitism\n",
        "        self.typeRandom = typeRandom\n",
        "\n",
        "    def generate_random_value(self):\n",
        "        if self.typeRandom:\n",
        "            return np.random.randint(self.rangeGen[0], self.rangeGen[1] + 1)\n",
        "        return np.random.uniform(self.rangeGen[0],self.rangeGen[1])\n",
        "        \n",
        "    def create_individual(self):\n",
        "        return [self.generate_random_value() for _ in range(self.nInviduals)]\n",
        "\n",
        "    def compute_fitness(self, individual):\n",
        "        return self.secret(individual)\n",
        "\n",
        "    def crossover(self, individual1, individual2):\n",
        "        individual1_new = individual1.copy()\n",
        "        individual2_new = individual2.copy()\n",
        "        \n",
        "        for i in range(self.nInviduals):\n",
        "            if random.random() < self.rateCross:\n",
        "                individual1_new[i] = individual2[i]\n",
        "                individual2_new[i] = individual1[i]            \n",
        "        \n",
        "        return individual1_new, individual2_new\n",
        "\n",
        "    def mutate(self, individual):\n",
        "        individual_m = individual.copy()\n",
        "        \n",
        "        for i in range(self.\u001dnInviduals):\n",
        "            if random.random() < self.rateMutate:\n",
        "                individual_m[i] = self.generate_random_value()\n",
        "            \n",
        "        return individual_m\n",
        "\n",
        "    def selection(self, sorted_old_population):    \n",
        "        index1 = random.randint(0, self.nSizePopulation-1)    \n",
        "        while True:\n",
        "            index2 = random.randint(0, self.nSizePopulation-1)    \n",
        "            if (index2 != index1):\n",
        "                break\n",
        "                \n",
        "        individual_s = sorted_old_population[index1]\n",
        "        if index2 > index1:\n",
        "            individual_s = sorted_old_population[index2]\n",
        "        \n",
        "        return individual_s \n",
        "\n",
        "    def create_new_population(self, old_population):\n",
        "        sorted_population = sorted(old_population, key=self.compute_fitness) \n",
        "        self.fitness.append(1/(self.compute_fitness(sorted_population[self.nSizePopulation-1]) + 1))   \n",
        "        \n",
        "        new_population = []\n",
        "\n",
        "        while len(new_population) < self.nSizePopulation-self.elitism:\n",
        "            # selection\n",
        "            individual_s1 = self.selection(sorted_population)\n",
        "            individual_s2 = self.selection(sorted_population) # duplication\n",
        "            \n",
        "            # crossover\n",
        "            individual_c1, individual_c2 = self.crossover(individual_s1, individual_s2)\n",
        "            \n",
        "            # mutation\n",
        "            individual_m1 = self.mutate(individual_c1)\n",
        "            individual_m2 = self.mutate(individual_c2)\n",
        "            \n",
        "            new_population.append(individual_m1)\n",
        "            new_population.append(individual_m2)            \n",
        "        \n",
        "        for ind in sorted_population[self.nSizePopulation-self.elitism:]:\n",
        "            new_population.append(ind.copy())\n",
        "\n",
        "        return new_population\n",
        "\n",
        "    def runGA(self):\n",
        "        population = [self.create_individual() for _ in range(self.nSizePopulation)]\n",
        "        for i in range(self.nIterators):\n",
        "            population = self.create_new_population(population)\n",
        "\n",
        "        return population[-1]\n",
        "    # Quan sát đồ thị\n",
        "    def showGraph(self):\n",
        "        if (self.fitness == []):\n",
        "            print(\"You don't run GA\")\n",
        "            return\n",
        "\n",
        "        plt.plot(self.fitness)\n",
        "        plt.show()"
      ],
      "execution_count": null,
      "outputs": []
    },
    {
      "cell_type": "markdown",
      "metadata": {
        "id": "XhjFmk65iBL2"
      },
      "source": [
        "## **Max-one**"
      ]
    },
    {
      "cell_type": "code",
      "metadata": {
        "id": "6FCzYu6mn3FL",
        "outputId": "088e72ca-5135-41f9-c4d4-bc26e6fc8b27",
        "colab": {
          "base_uri": "https://localhost:8080/",
          "height": 282
        }
      },
      "source": [
        "def secret(individual):\n",
        "    return sum(gen for gen in individual)\n",
        "binaryMax = GA(nSizePopulation = 20,\n",
        "               rangeGen = (0,1),\n",
        "               nInviduals = 20,\n",
        "               secret = secret,\n",
        "               nIterators = 50,\n",
        "               rateCross = 0.9,\n",
        "               rateMutate = 0.05,\n",
        "               elitism = 2,\n",
        "               typeRandom = 1)\n",
        "\n",
        "print(binaryMax.runGA())\n",
        "binaryMax.showGraph()"
      ],
      "execution_count": null,
      "outputs": [
        {
          "output_type": "stream",
          "text": [
            "[1, 1, 1, 1, 1, 1, 1, 1, 1, 1, 1, 1, 1, 1, 1, 1, 1, 1, 1, 1]\n"
          ],
          "name": "stdout"
        },
        {
          "output_type": "display_data",
          "data": {
            "image/png": "[encoded data removed]",
            "text/plain": [
              "<Figure size 432x288 with 1 Axes>"
            ]
          },
          "metadata": {
            "tags": [],
            "needs_background": "light"
          }
        }
      ]
    },
    {
      "cell_type": "markdown",
      "metadata": {
        "id": "fghLGGgqiJjp"
      },
      "source": [
        "## **MinShere**\n"
      ]
    },
    {
      "cell_type": "code",
      "metadata": {
        "id": "Rlpx31OKiW7j",
        "outputId": "bd16ad0c-276c-46ae-fcfa-25d38d6c95e5",
        "colab": {
          "base_uri": "https://localhost:8080/",
          "height": 285
        }
      },
      "source": [
        "def secret(individual):\n",
        "    loss = sum(gen*gen for gen in individual)  \n",
        "    fitness = 1/(1 + loss)\n",
        "    return fitness\n",
        "minShere = GA(nSizePopulation = 10,\n",
        "               rangeGen = (-20,20),\n",
        "               nInviduals = 4,\n",
        "               secret = secret,\n",
        "               nIterators = 1000,\n",
        "               rateCross = 0.9,\n",
        "               rateMutate = 0.05,\n",
        "               elitism = 2,\n",
        "               typeRandom = 0)\n",
        "\n",
        "print(minShere.runGA())\n",
        "minShere.showGraph()"
      ],
      "execution_count": null,
      "outputs": [
        {
          "output_type": "stream",
          "text": [
            "[-0.0007465873336833795, 0.20078271590701036, 0.04929889468842319, 0.024907815964269275]\n"
          ],
          "name": "stdout"
        },
        {
          "output_type": "display_data",
          "data": {
            "image/png": "[encoded data removed]",
            "text/plain": [
              "<Figure size 432x288 with 1 Axes>"
            ]
          },
          "metadata": {
            "tags": [],
            "needs_background": "light"
          }
        }
      ]
    },
    {
      "cell_type": "markdown",
      "metadata": {
        "id": "w1ZmwKHG_qvS"
      },
      "source": [
        "## **Knapsack**"
      ]
    },
    {
      "cell_type": "code",
      "metadata": {
        "id": "JDc9QhUyArTo",
        "outputId": "ab7fe66a-1b23-4266-df18-06ead64abc80",
        "colab": {
          "base_uri": "https://localhost:8080/",
          "height": 282
        }
      },
      "source": [
        "weights = [1, 2, 5, 7, 1, 12, 15, 1, 32, 33, 5, 37]  # can nang cac vat\n",
        "prices =  [1, 31, 6, 7, 3, 15, 25, 32, 2, 45, 7, 3]  # gia tri cua cac vat tuong ung\n",
        "\n",
        "maxWeight = 50\n",
        "\n",
        "def secret(individual):\n",
        "    sum_weight = sum(c*x for c, x in zip(individual, weights))\n",
        "    fitness = sum(c*x for c, x in zip(individual, prices))\n",
        "    if sum_weight > maxWeight:\n",
        "        fitness /= 1000               \n",
        "    return fitness\n",
        "\n",
        "knapSack = GA(nSizePopulation = 100,\n",
        "               rangeGen = (0, 1),\n",
        "               nInviduals = 12,\n",
        "               secret = secret,\n",
        "               nIterators = 1000,\n",
        "               rateCross = 0.9,\n",
        "               rateMutate = 0.05,\n",
        "               elitism = 2,\n",
        "               typeRandom = 1)\n",
        "\n",
        "print(knapSack.runGA())\n",
        "knapSack.showGraph()"
      ],
      "execution_count": null,
      "outputs": [
        {
          "output_type": "stream",
          "text": [
            "[1, 1, 1, 1, 1, 1, 1, 1, 0, 0, 1, 0]\n"
          ],
          "name": "stdout"
        },
        {
          "output_type": "display_data",
          "data": {
            "image/png": "[encoded data removed]",
            "text/plain": [
              "<Figure size 432x288 with 1 Axes>"
            ]
          },
          "metadata": {
            "tags": [],
            "needs_background": "light"
          }
        }
      ]
    }
  ]
}